{
 "cells": [
  {
   "cell_type": "markdown",
   "id": "4a72986c",
   "metadata": {
    "papermill": {
     "duration": 0.006084,
     "end_time": "2025-04-02T08:43:00.389217",
     "exception": false,
     "start_time": "2025-04-02T08:43:00.383133",
     "status": "completed"
    },
    "tags": []
   },
   "source": [
    "# Project\n",
    "\n",
    "## Brief description of the problem and data\n",
    "\n",
    "This project aims to predict the content on Twitter, allowing for quick classification of words and determining whether a tweet is related to a disaster.\n",
    "\n",
    "The challenge involves natural language processing (NLP) using LSTM to classify text data."
   ]
  },
  {
   "cell_type": "code",
   "execution_count": 1,
   "id": "57b3df58",
   "metadata": {
    "_cell_guid": "b1076dfc-b9ad-4769-8c92-a6c4dae69d19",
    "_uuid": "8f2839f25d086af736a60e9eeb907d3b93b6e0e5",
    "execution": {
     "iopub.execute_input": "2025-04-02T08:43:00.402447Z",
     "iopub.status.busy": "2025-04-02T08:43:00.401945Z",
     "iopub.status.idle": "2025-04-02T08:43:01.493493Z",
     "shell.execute_reply": "2025-04-02T08:43:01.492106Z"
    },
    "papermill": {
     "duration": 1.100234,
     "end_time": "2025-04-02T08:43:01.495173",
     "exception": false,
     "start_time": "2025-04-02T08:43:00.394939",
     "status": "completed"
    },
    "tags": []
   },
   "outputs": [
    {
     "name": "stdout",
     "output_type": "stream",
     "text": [
      "/kaggle/input/nlp-getting-started/sample_submission.csv\n",
      "/kaggle/input/nlp-getting-started/train.csv\n",
      "/kaggle/input/nlp-getting-started/test.csv\n"
     ]
    }
   ],
   "source": [
    "# This Python 3 environment comes with many helpful analytics libraries installed\n",
    "# It is defined by the kaggle/python Docker image: https://github.com/kaggle/docker-python\n",
    "# For example, here's several helpful packages to load\n",
    "\n",
    "import numpy as np # linear algebra\n",
    "import pandas as pd # data processing, CSV file I/O (e.g. pd.read_csv)\n",
    "\n",
    "# Input data files are available in the read-only \"../input/\" directory\n",
    "# For example, running this (by clicking run or pressing Shift+Enter) will list all files under the input directory\n",
    "\n",
    "import os\n",
    "for dirname, _, filenames in os.walk('/kaggle/input'):\n",
    "    for filename in filenames:\n",
    "        print(os.path.join(dirname, filename))\n",
    "\n",
    "# You can write up to 20GB to the current directory (/kaggle/working/) that gets preserved as output when you create a version using \"Save & Run All\" \n",
    "# You can also write temporary files to /kaggle/temp/, but they won't be saved outside of the current session"
   ]
  },
  {
   "cell_type": "code",
   "execution_count": 2,
   "id": "fa987cdd",
   "metadata": {
    "execution": {
     "iopub.execute_input": "2025-04-02T08:43:01.507024Z",
     "iopub.status.busy": "2025-04-02T08:43:01.506545Z",
     "iopub.status.idle": "2025-04-02T08:43:11.769766Z",
     "shell.execute_reply": "2025-04-02T08:43:11.768476Z"
    },
    "papermill": {
     "duration": 10.272121,
     "end_time": "2025-04-02T08:43:11.772684",
     "exception": false,
     "start_time": "2025-04-02T08:43:01.500563",
     "status": "completed"
    },
    "tags": []
   },
   "outputs": [
    {
     "name": "stdout",
     "output_type": "stream",
     "text": [
      "Requirement already satisfied: fasttext in /usr/local/lib/python3.10/dist-packages (0.9.3)\r\n",
      "Requirement already satisfied: pybind11>=2.2 in /usr/local/lib/python3.10/dist-packages (from fasttext) (2.13.6)\r\n",
      "Requirement already satisfied: setuptools>=0.7.0 in /usr/local/lib/python3.10/dist-packages (from fasttext) (75.1.0)\r\n",
      "Requirement already satisfied: numpy in /usr/local/lib/python3.10/dist-packages (from fasttext) (1.26.4)\r\n",
      "Requirement already satisfied: mkl_fft in /usr/local/lib/python3.10/dist-packages (from numpy->fasttext) (1.3.8)\r\n",
      "Requirement already satisfied: mkl_random in /usr/local/lib/python3.10/dist-packages (from numpy->fasttext) (1.2.4)\r\n",
      "Requirement already satisfied: mkl_umath in /usr/local/lib/python3.10/dist-packages (from numpy->fasttext) (0.1.1)\r\n",
      "Requirement already satisfied: mkl in /usr/local/lib/python3.10/dist-packages (from numpy->fasttext) (2025.0.1)\r\n",
      "Requirement already satisfied: tbb4py in /usr/local/lib/python3.10/dist-packages (from numpy->fasttext) (2022.0.0)\r\n",
      "Requirement already satisfied: mkl-service in /usr/local/lib/python3.10/dist-packages (from numpy->fasttext) (2.4.1)\r\n",
      "Requirement already satisfied: intel-openmp>=2024 in /usr/local/lib/python3.10/dist-packages (from mkl->numpy->fasttext) (2024.2.0)\r\n",
      "Requirement already satisfied: tbb==2022.* in /usr/local/lib/python3.10/dist-packages (from mkl->numpy->fasttext) (2022.0.0)\r\n",
      "Requirement already satisfied: tcmlib==1.* in /usr/local/lib/python3.10/dist-packages (from tbb==2022.*->mkl->numpy->fasttext) (1.2.0)\r\n",
      "Requirement already satisfied: intel-cmplr-lib-rt in /usr/local/lib/python3.10/dist-packages (from mkl_umath->numpy->fasttext) (2024.2.0)\r\n",
      "Requirement already satisfied: intel-cmplr-lib-ur==2024.2.0 in /usr/local/lib/python3.10/dist-packages (from intel-openmp>=2024->mkl->numpy->fasttext) (2024.2.0)\r\n",
      "Requirement already satisfied: tensorflow in /usr/local/lib/python3.10/dist-packages (2.17.1)\r\n",
      "Requirement already satisfied: absl-py>=1.0.0 in /usr/local/lib/python3.10/dist-packages (from tensorflow) (1.4.0)\r\n",
      "Requirement already satisfied: astunparse>=1.6.0 in /usr/local/lib/python3.10/dist-packages (from tensorflow) (1.6.3)\r\n",
      "Requirement already satisfied: flatbuffers>=24.3.25 in /usr/local/lib/python3.10/dist-packages (from tensorflow) (24.3.25)\r\n",
      "Requirement already satisfied: gast!=0.5.0,!=0.5.1,!=0.5.2,>=0.2.1 in /usr/local/lib/python3.10/dist-packages (from tensorflow) (0.6.0)\r\n",
      "Requirement already satisfied: google-pasta>=0.1.1 in /usr/local/lib/python3.10/dist-packages (from tensorflow) (0.2.0)\r\n",
      "Requirement already satisfied: h5py>=3.10.0 in /usr/local/lib/python3.10/dist-packages (from tensorflow) (3.12.1)\r\n",
      "Requirement already satisfied: libclang>=13.0.0 in /usr/local/lib/python3.10/dist-packages (from tensorflow) (18.1.1)\r\n",
      "Requirement already satisfied: ml-dtypes<0.5.0,>=0.3.1 in /usr/local/lib/python3.10/dist-packages (from tensorflow) (0.4.1)\r\n",
      "Requirement already satisfied: opt-einsum>=2.3.2 in /usr/local/lib/python3.10/dist-packages (from tensorflow) (3.4.0)\r\n",
      "Requirement already satisfied: packaging in /usr/local/lib/python3.10/dist-packages (from tensorflow) (24.2)\r\n",
      "Requirement already satisfied: protobuf!=4.21.0,!=4.21.1,!=4.21.2,!=4.21.3,!=4.21.4,!=4.21.5,<5.0.0dev,>=3.20.3 in /usr/local/lib/python3.10/dist-packages (from tensorflow) (3.20.3)\r\n",
      "Requirement already satisfied: requests<3,>=2.21.0 in /usr/local/lib/python3.10/dist-packages (from tensorflow) (2.32.3)\r\n",
      "Requirement already satisfied: setuptools in /usr/local/lib/python3.10/dist-packages (from tensorflow) (75.1.0)\r\n",
      "Requirement already satisfied: six>=1.12.0 in /usr/local/lib/python3.10/dist-packages (from tensorflow) (1.17.0)\r\n",
      "Requirement already satisfied: termcolor>=1.1.0 in /usr/local/lib/python3.10/dist-packages (from tensorflow) (2.5.0)\r\n",
      "Requirement already satisfied: typing-extensions>=3.6.6 in /usr/local/lib/python3.10/dist-packages (from tensorflow) (4.12.2)\r\n",
      "Requirement already satisfied: wrapt>=1.11.0 in /usr/local/lib/python3.10/dist-packages (from tensorflow) (1.17.0)\r\n",
      "Requirement already satisfied: grpcio<2.0,>=1.24.3 in /usr/local/lib/python3.10/dist-packages (from tensorflow) (1.68.1)\r\n",
      "Requirement already satisfied: tensorboard<2.18,>=2.17 in /usr/local/lib/python3.10/dist-packages (from tensorflow) (2.17.1)\r\n",
      "Requirement already satisfied: keras>=3.2.0 in /usr/local/lib/python3.10/dist-packages (from tensorflow) (3.5.0)\r\n",
      "Requirement already satisfied: tensorflow-io-gcs-filesystem>=0.23.1 in /usr/local/lib/python3.10/dist-packages (from tensorflow) (0.37.1)\r\n",
      "Requirement already satisfied: numpy<2.0.0,>=1.23.5 in /usr/local/lib/python3.10/dist-packages (from tensorflow) (1.26.4)\r\n",
      "Requirement already satisfied: wheel<1.0,>=0.23.0 in /usr/local/lib/python3.10/dist-packages (from astunparse>=1.6.0->tensorflow) (0.45.1)\r\n",
      "Requirement already satisfied: rich in /usr/local/lib/python3.10/dist-packages (from keras>=3.2.0->tensorflow) (13.9.4)\r\n",
      "Requirement already satisfied: namex in /usr/local/lib/python3.10/dist-packages (from keras>=3.2.0->tensorflow) (0.0.8)\r\n",
      "Requirement already satisfied: optree in /usr/local/lib/python3.10/dist-packages (from keras>=3.2.0->tensorflow) (0.13.1)\r\n",
      "Requirement already satisfied: mkl_fft in /usr/local/lib/python3.10/dist-packages (from numpy<2.0.0,>=1.23.5->tensorflow) (1.3.8)\r\n",
      "Requirement already satisfied: mkl_random in /usr/local/lib/python3.10/dist-packages (from numpy<2.0.0,>=1.23.5->tensorflow) (1.2.4)\r\n",
      "Requirement already satisfied: mkl_umath in /usr/local/lib/python3.10/dist-packages (from numpy<2.0.0,>=1.23.5->tensorflow) (0.1.1)\r\n",
      "Requirement already satisfied: mkl in /usr/local/lib/python3.10/dist-packages (from numpy<2.0.0,>=1.23.5->tensorflow) (2025.0.1)\r\n",
      "Requirement already satisfied: tbb4py in /usr/local/lib/python3.10/dist-packages (from numpy<2.0.0,>=1.23.5->tensorflow) (2022.0.0)\r\n",
      "Requirement already satisfied: mkl-service in /usr/local/lib/python3.10/dist-packages (from numpy<2.0.0,>=1.23.5->tensorflow) (2.4.1)\r\n",
      "Requirement already satisfied: charset-normalizer<4,>=2 in /usr/local/lib/python3.10/dist-packages (from requests<3,>=2.21.0->tensorflow) (3.4.1)\r\n",
      "Requirement already satisfied: idna<4,>=2.5 in /usr/local/lib/python3.10/dist-packages (from requests<3,>=2.21.0->tensorflow) (3.10)\r\n",
      "Requirement already satisfied: urllib3<3,>=1.21.1 in /usr/local/lib/python3.10/dist-packages (from requests<3,>=2.21.0->tensorflow) (2.3.0)\r\n",
      "Requirement already satisfied: certifi>=2017.4.17 in /usr/local/lib/python3.10/dist-packages (from requests<3,>=2.21.0->tensorflow) (2025.1.31)\r\n",
      "Requirement already satisfied: markdown>=2.6.8 in /usr/local/lib/python3.10/dist-packages (from tensorboard<2.18,>=2.17->tensorflow) (3.7)\r\n",
      "Requirement already satisfied: tensorboard-data-server<0.8.0,>=0.7.0 in /usr/local/lib/python3.10/dist-packages (from tensorboard<2.18,>=2.17->tensorflow) (0.7.2)\r\n",
      "Requirement already satisfied: werkzeug>=1.0.1 in /usr/local/lib/python3.10/dist-packages (from tensorboard<2.18,>=2.17->tensorflow) (3.1.3)\r\n",
      "Requirement already satisfied: MarkupSafe>=2.1.1 in /usr/local/lib/python3.10/dist-packages (from werkzeug>=1.0.1->tensorboard<2.18,>=2.17->tensorflow) (3.0.2)\r\n",
      "Requirement already satisfied: intel-openmp>=2024 in /usr/local/lib/python3.10/dist-packages (from mkl->numpy<2.0.0,>=1.23.5->tensorflow) (2024.2.0)\r\n",
      "Requirement already satisfied: tbb==2022.* in /usr/local/lib/python3.10/dist-packages (from mkl->numpy<2.0.0,>=1.23.5->tensorflow) (2022.0.0)\r\n",
      "Requirement already satisfied: tcmlib==1.* in /usr/local/lib/python3.10/dist-packages (from tbb==2022.*->mkl->numpy<2.0.0,>=1.23.5->tensorflow) (1.2.0)\r\n",
      "Requirement already satisfied: intel-cmplr-lib-rt in /usr/local/lib/python3.10/dist-packages (from mkl_umath->numpy<2.0.0,>=1.23.5->tensorflow) (2024.2.0)\r\n",
      "Requirement already satisfied: markdown-it-py>=2.2.0 in /usr/local/lib/python3.10/dist-packages (from rich->keras>=3.2.0->tensorflow) (3.0.0)\r\n",
      "Requirement already satisfied: pygments<3.0.0,>=2.13.0 in /usr/local/lib/python3.10/dist-packages (from rich->keras>=3.2.0->tensorflow) (2.19.1)\r\n",
      "Requirement already satisfied: intel-cmplr-lib-ur==2024.2.0 in /usr/local/lib/python3.10/dist-packages (from intel-openmp>=2024->mkl->numpy<2.0.0,>=1.23.5->tensorflow) (2024.2.0)\r\n",
      "Requirement already satisfied: mdurl~=0.1 in /usr/local/lib/python3.10/dist-packages (from markdown-it-py>=2.2.0->rich->keras>=3.2.0->tensorflow) (0.1.2)\r\n"
     ]
    }
   ],
   "source": [
    "!pip install fasttext\n",
    "!pip install tensorflow\n"
   ]
  },
  {
   "cell_type": "code",
   "execution_count": 3,
   "id": "c4f798c3",
   "metadata": {
    "execution": {
     "iopub.execute_input": "2025-04-02T08:43:11.785935Z",
     "iopub.status.busy": "2025-04-02T08:43:11.785519Z",
     "iopub.status.idle": "2025-04-02T08:43:31.121493Z",
     "shell.execute_reply": "2025-04-02T08:43:31.120090Z"
    },
    "papermill": {
     "duration": 19.345764,
     "end_time": "2025-04-02T08:43:31.124350",
     "exception": false,
     "start_time": "2025-04-02T08:43:11.778586",
     "status": "completed"
    },
    "tags": []
   },
   "outputs": [
    {
     "name": "stdout",
     "output_type": "stream",
     "text": [
      "[nltk_data] Downloading package stopwords to /usr/share/nltk_data...\n",
      "[nltk_data]   Unzipping corpora/stopwords.zip.\n"
     ]
    },
    {
     "data": {
      "text/plain": [
       "True"
      ]
     },
     "execution_count": 3,
     "metadata": {},
     "output_type": "execute_result"
    }
   ],
   "source": [
    "import pandas as pd\n",
    "import re\n",
    "import nltk\n",
    "from tensorflow.keras.preprocessing.text import Tokenizer\n",
    "from tensorflow.keras.preprocessing.sequence import pad_sequences\n",
    "from tensorflow.keras.models import Sequential\n",
    "from tensorflow.keras.layers import Embedding, LSTM, Dense, Dropout\n",
    "from tensorflow.keras.optimizers import Adam\n",
    "from nltk.corpus import stopwords\n",
    "nltk.download('stopwords')"
   ]
  },
  {
   "cell_type": "markdown",
   "id": "0be56a83",
   "metadata": {
    "papermill": {
     "duration": 0.010561,
     "end_time": "2025-04-02T08:43:31.146371",
     "exception": false,
     "start_time": "2025-04-02T08:43:31.135810",
     "status": "completed"
    },
    "tags": []
   },
   "source": [
    "## Brief description of the data\n",
    "\n",
    "The training set (train.csv) contains 7,613 data entries with the following columns: id, keyword, location, text, and target (where target is labeled as 0 or 1 to indicate whether the tweet is about a disaster).\n",
    "The test set (test.csv) contains 3,263 data entries, with the same columns as the training set except for the target column, which is used for model prediction."
   ]
  },
  {
   "cell_type": "code",
   "execution_count": 4,
   "id": "df4402f5",
   "metadata": {
    "execution": {
     "iopub.execute_input": "2025-04-02T08:43:31.170105Z",
     "iopub.status.busy": "2025-04-02T08:43:31.169431Z",
     "iopub.status.idle": "2025-04-02T08:43:31.255748Z",
     "shell.execute_reply": "2025-04-02T08:43:31.254532Z"
    },
    "papermill": {
     "duration": 0.100076,
     "end_time": "2025-04-02T08:43:31.257550",
     "exception": false,
     "start_time": "2025-04-02T08:43:31.157474",
     "status": "completed"
    },
    "tags": []
   },
   "outputs": [
    {
     "data": {
      "text/html": [
       "<div>\n",
       "<style scoped>\n",
       "    .dataframe tbody tr th:only-of-type {\n",
       "        vertical-align: middle;\n",
       "    }\n",
       "\n",
       "    .dataframe tbody tr th {\n",
       "        vertical-align: top;\n",
       "    }\n",
       "\n",
       "    .dataframe thead th {\n",
       "        text-align: right;\n",
       "    }\n",
       "</style>\n",
       "<table border=\"1\" class=\"dataframe\">\n",
       "  <thead>\n",
       "    <tr style=\"text-align: right;\">\n",
       "      <th></th>\n",
       "      <th>id</th>\n",
       "      <th>keyword</th>\n",
       "      <th>location</th>\n",
       "      <th>text</th>\n",
       "      <th>target</th>\n",
       "    </tr>\n",
       "  </thead>\n",
       "  <tbody>\n",
       "    <tr>\n",
       "      <th>0</th>\n",
       "      <td>1</td>\n",
       "      <td>NaN</td>\n",
       "      <td>NaN</td>\n",
       "      <td>Our Deeds are the Reason of this #earthquake M...</td>\n",
       "      <td>1</td>\n",
       "    </tr>\n",
       "    <tr>\n",
       "      <th>1</th>\n",
       "      <td>4</td>\n",
       "      <td>NaN</td>\n",
       "      <td>NaN</td>\n",
       "      <td>Forest fire near La Ronge Sask. Canada</td>\n",
       "      <td>1</td>\n",
       "    </tr>\n",
       "    <tr>\n",
       "      <th>2</th>\n",
       "      <td>5</td>\n",
       "      <td>NaN</td>\n",
       "      <td>NaN</td>\n",
       "      <td>All residents asked to 'shelter in place' are ...</td>\n",
       "      <td>1</td>\n",
       "    </tr>\n",
       "    <tr>\n",
       "      <th>3</th>\n",
       "      <td>6</td>\n",
       "      <td>NaN</td>\n",
       "      <td>NaN</td>\n",
       "      <td>13,000 people receive #wildfires evacuation or...</td>\n",
       "      <td>1</td>\n",
       "    </tr>\n",
       "    <tr>\n",
       "      <th>4</th>\n",
       "      <td>7</td>\n",
       "      <td>NaN</td>\n",
       "      <td>NaN</td>\n",
       "      <td>Just got sent this photo from Ruby #Alaska as ...</td>\n",
       "      <td>1</td>\n",
       "    </tr>\n",
       "  </tbody>\n",
       "</table>\n",
       "</div>"
      ],
      "text/plain": [
       "   id keyword location                                               text  \\\n",
       "0   1     NaN      NaN  Our Deeds are the Reason of this #earthquake M...   \n",
       "1   4     NaN      NaN             Forest fire near La Ronge Sask. Canada   \n",
       "2   5     NaN      NaN  All residents asked to 'shelter in place' are ...   \n",
       "3   6     NaN      NaN  13,000 people receive #wildfires evacuation or...   \n",
       "4   7     NaN      NaN  Just got sent this photo from Ruby #Alaska as ...   \n",
       "\n",
       "   target  \n",
       "0       1  \n",
       "1       1  \n",
       "2       1  \n",
       "3       1  \n",
       "4       1  "
      ]
     },
     "execution_count": 4,
     "metadata": {},
     "output_type": "execute_result"
    }
   ],
   "source": [
    "train_df=pd.read_csv(\"/kaggle/input/nlp-getting-started/train.csv\")\n",
    "train_df.head()"
   ]
  },
  {
   "cell_type": "code",
   "execution_count": 5,
   "id": "9840ea39",
   "metadata": {
    "execution": {
     "iopub.execute_input": "2025-04-02T08:43:31.271258Z",
     "iopub.status.busy": "2025-04-02T08:43:31.270895Z",
     "iopub.status.idle": "2025-04-02T08:43:31.311328Z",
     "shell.execute_reply": "2025-04-02T08:43:31.309991Z"
    },
    "papermill": {
     "duration": 0.049617,
     "end_time": "2025-04-02T08:43:31.313453",
     "exception": false,
     "start_time": "2025-04-02T08:43:31.263836",
     "status": "completed"
    },
    "tags": []
   },
   "outputs": [
    {
     "data": {
      "text/html": [
       "<div>\n",
       "<style scoped>\n",
       "    .dataframe tbody tr th:only-of-type {\n",
       "        vertical-align: middle;\n",
       "    }\n",
       "\n",
       "    .dataframe tbody tr th {\n",
       "        vertical-align: top;\n",
       "    }\n",
       "\n",
       "    .dataframe thead th {\n",
       "        text-align: right;\n",
       "    }\n",
       "</style>\n",
       "<table border=\"1\" class=\"dataframe\">\n",
       "  <thead>\n",
       "    <tr style=\"text-align: right;\">\n",
       "      <th></th>\n",
       "      <th>id</th>\n",
       "      <th>keyword</th>\n",
       "      <th>location</th>\n",
       "      <th>text</th>\n",
       "    </tr>\n",
       "  </thead>\n",
       "  <tbody>\n",
       "    <tr>\n",
       "      <th>0</th>\n",
       "      <td>0</td>\n",
       "      <td>NaN</td>\n",
       "      <td>NaN</td>\n",
       "      <td>Just happened a terrible car crash</td>\n",
       "    </tr>\n",
       "    <tr>\n",
       "      <th>1</th>\n",
       "      <td>2</td>\n",
       "      <td>NaN</td>\n",
       "      <td>NaN</td>\n",
       "      <td>Heard about #earthquake is different cities, s...</td>\n",
       "    </tr>\n",
       "    <tr>\n",
       "      <th>2</th>\n",
       "      <td>3</td>\n",
       "      <td>NaN</td>\n",
       "      <td>NaN</td>\n",
       "      <td>there is a forest fire at spot pond, geese are...</td>\n",
       "    </tr>\n",
       "    <tr>\n",
       "      <th>3</th>\n",
       "      <td>9</td>\n",
       "      <td>NaN</td>\n",
       "      <td>NaN</td>\n",
       "      <td>Apocalypse lighting. #Spokane #wildfires</td>\n",
       "    </tr>\n",
       "    <tr>\n",
       "      <th>4</th>\n",
       "      <td>11</td>\n",
       "      <td>NaN</td>\n",
       "      <td>NaN</td>\n",
       "      <td>Typhoon Soudelor kills 28 in China and Taiwan</td>\n",
       "    </tr>\n",
       "  </tbody>\n",
       "</table>\n",
       "</div>"
      ],
      "text/plain": [
       "   id keyword location                                               text\n",
       "0   0     NaN      NaN                 Just happened a terrible car crash\n",
       "1   2     NaN      NaN  Heard about #earthquake is different cities, s...\n",
       "2   3     NaN      NaN  there is a forest fire at spot pond, geese are...\n",
       "3   9     NaN      NaN           Apocalypse lighting. #Spokane #wildfires\n",
       "4  11     NaN      NaN      Typhoon Soudelor kills 28 in China and Taiwan"
      ]
     },
     "execution_count": 5,
     "metadata": {},
     "output_type": "execute_result"
    }
   ],
   "source": [
    "test_df=pd.read_csv(\"/kaggle/input/nlp-getting-started/test.csv\")\n",
    "test_df.head()"
   ]
  },
  {
   "cell_type": "code",
   "execution_count": 6,
   "id": "c409f290",
   "metadata": {
    "execution": {
     "iopub.execute_input": "2025-04-02T08:43:31.327164Z",
     "iopub.status.busy": "2025-04-02T08:43:31.326801Z",
     "iopub.status.idle": "2025-04-02T08:43:31.332379Z",
     "shell.execute_reply": "2025-04-02T08:43:31.331120Z"
    },
    "papermill": {
     "duration": 0.014639,
     "end_time": "2025-04-02T08:43:31.334435",
     "exception": false,
     "start_time": "2025-04-02T08:43:31.319796",
     "status": "completed"
    },
    "tags": []
   },
   "outputs": [
    {
     "name": "stdout",
     "output_type": "stream",
     "text": [
      "(7613, 5)\n",
      "(3263, 4)\n"
     ]
    }
   ],
   "source": [
    "print(train_df.shape)\n",
    "print(test_df.shape)"
   ]
  },
  {
   "cell_type": "markdown",
   "id": "0ee712e9",
   "metadata": {
    "papermill": {
     "duration": 0.011478,
     "end_time": "2025-04-02T08:43:31.358161",
     "exception": false,
     "start_time": "2025-04-02T08:43:31.346683",
     "status": "completed"
    },
    "tags": []
   },
   "source": [
    "## Exploratory Data Analysis (EDA) — Inspect, Visualize and Clean the Data \n",
    "\n",
    "Clean the data by removing punctuation, converting text to lowercase, and eliminating unnecessary words such as \"is\" and \"on.\" The text is cleaned by removing irrelevant characters and stopwords.\n",
    "\n",
    "Then, sort and display the top 20 most frequent words. However, this processed data will not be used for analysis, as the preprocess_text function may be too aggressive in removing punctuation, which could affect certain meanings and disrupt LSTM's ability to capture contextual connections."
   ]
  },
  {
   "cell_type": "code",
   "execution_count": 7,
   "id": "dc11b806",
   "metadata": {
    "execution": {
     "iopub.execute_input": "2025-04-02T08:43:31.381320Z",
     "iopub.status.busy": "2025-04-02T08:43:31.380902Z",
     "iopub.status.idle": "2025-04-02T08:43:31.470433Z",
     "shell.execute_reply": "2025-04-02T08:43:31.469213Z"
    },
    "papermill": {
     "duration": 0.10357,
     "end_time": "2025-04-02T08:43:31.472603",
     "exception": false,
     "start_time": "2025-04-02T08:43:31.369033",
     "status": "completed"
    },
    "tags": []
   },
   "outputs": [
    {
     "name": "stdout",
     "output_type": "stream",
     "text": [
      "                                        cleaned_text  target\n",
      "0       deeds reason earthquake may allah forgive us       1\n",
      "1              forest fire near la ronge sask canada       1\n",
      "2  residents asked shelter place notified officer...       1\n",
      "3  people receive wildfires evacuation orders cal...       1\n",
      "4  got sent photo ruby alaska smoke wildfires pou...       1\n"
     ]
    }
   ],
   "source": [
    "def preprocess_text(text):\n",
    "    text = re.sub(r'[^a-zA-Z\\s]', '', text)\n",
    "    text = text.lower()\n",
    "    return text\n",
    "\n",
    "train_df_visual=train_df.copy()\n",
    "\n",
    "train_df_visual['cleaned_text']=train_df_visual['text'].apply(preprocess_text)\n",
    "\n",
    "stop_words = set(stopwords.words('english'))\n",
    "\n",
    "def remove_stopwords(text):\n",
    "    return ' '.join([word for word in text.split() if word not in stop_words])\n",
    "\n",
    "train_df_visual['cleaned_text']=train_df_visual['cleaned_text'].apply(remove_stopwords)\n",
    "\n",
    "train_df_visual = train_df_visual[['cleaned_text', 'target']].reset_index(drop=True)\n",
    "\n",
    "print(train_df_visual.head())"
   ]
  },
  {
   "cell_type": "code",
   "execution_count": 8,
   "id": "a14910b2",
   "metadata": {
    "execution": {
     "iopub.execute_input": "2025-04-02T08:43:31.489081Z",
     "iopub.status.busy": "2025-04-02T08:43:31.488749Z",
     "iopub.status.idle": "2025-04-02T08:43:32.548835Z",
     "shell.execute_reply": "2025-04-02T08:43:32.547672Z"
    },
    "papermill": {
     "duration": 1.070128,
     "end_time": "2025-04-02T08:43:32.550869",
     "exception": false,
     "start_time": "2025-04-02T08:43:31.480741",
     "status": "completed"
    },
    "tags": []
   },
   "outputs": [
    {
     "data": {
      "image/png": "[encoded data removed]",
      "text/plain": [
       "<Figure size 1600x800 with 2 Axes>"
      ]
     },
     "metadata": {},
     "output_type": "display_data"
    }
   ],
   "source": [
    "from collections import Counter\n",
    "import matplotlib.pyplot as plt\n",
    "\n",
    "\n",
    "train_target_0 = train_df_visual[train_df_visual['target'] == 0]\n",
    "train_target_1 = train_df_visual[train_df_visual['target'] == 1]\n",
    "\n",
    "\n",
    "all_words_0 = ' '.join(train_target_0['cleaned_text']).split()\n",
    "word_freq_0 = Counter(all_words_0)\n",
    "common_words_0 = word_freq_0.most_common(20)\n",
    "words_0, frequencies_0 = zip(*common_words_0)\n",
    "\n",
    "\n",
    "all_words_1 = ' '.join(train_target_1['cleaned_text']).split()\n",
    "word_freq_1 = Counter(all_words_1)\n",
    "common_words_1 = word_freq_1.most_common(20)\n",
    "words_1, frequencies_1 = zip(*common_words_1)\n",
    "\n",
    "\n",
    "fig, axes = plt.subplots(1, 2, figsize=(16, 8))\n",
    "\n",
    "\n",
    "axes[0].barh(words_0, frequencies_0, color='skyblue')\n",
    "axes[0].set_xlabel('Frequency')\n",
    "axes[0].set_title('Top 20 Most Frequent Words (target == 0)')\n",
    "axes[0].invert_yaxis()  \n",
    "\n",
    "# target == 1 \n",
    "axes[1].barh(words_1, frequencies_1, color='salmon')\n",
    "axes[1].set_xlabel('Frequency')\n",
    "axes[1].set_title('Top 20 Most Frequent Words (target == 1)')\n",
    "axes[1].invert_yaxis()  \n",
    "\n",
    "\n",
    "plt.tight_layout()\n",
    "plt.show()\n"
   ]
  },
  {
   "cell_type": "markdown",
   "id": "24726ed8",
   "metadata": {
    "papermill": {
     "duration": 0.008053,
     "end_time": "2025-04-02T08:43:32.566795",
     "exception": false,
     "start_time": "2025-04-02T08:43:32.558742",
     "status": "completed"
    },
    "tags": []
   },
   "source": [
    "## Model Architecture\n",
    "\n"
   ]
  },
  {
   "cell_type": "code",
   "execution_count": 9,
   "id": "61c5e89c",
   "metadata": {
    "execution": {
     "iopub.execute_input": "2025-04-02T08:43:32.583439Z",
     "iopub.status.busy": "2025-04-02T08:43:32.583040Z",
     "iopub.status.idle": "2025-04-02T08:44:59.864257Z",
     "shell.execute_reply": "2025-04-02T08:44:59.862750Z"
    },
    "papermill": {
     "duration": 87.292192,
     "end_time": "2025-04-02T08:44:59.866485",
     "exception": false,
     "start_time": "2025-04-02T08:43:32.574293",
     "status": "completed"
    },
    "tags": []
   },
   "outputs": [
    {
     "name": "stdout",
     "output_type": "stream",
     "text": [
      "--2025-04-02 08:43:32--  https://dl.fbaipublicfiles.com/fasttext/vectors-crawl/cc.en.300.vec.gz\r\n",
      "Resolving dl.fbaipublicfiles.com (dl.fbaipublicfiles.com)... 13.227.219.70, 13.227.219.33, 13.227.219.59, ...\r\n",
      "Connecting to dl.fbaipublicfiles.com (dl.fbaipublicfiles.com)|13.227.219.70|:443... connected.\r\n",
      "HTTP request sent, awaiting response... 200 OK\r\n",
      "Length: 1325960915 (1.2G) [binary/octet-stream]\r\n",
      "Saving to: ‘cc.en.300.vec.gz’\r\n",
      "\r\n",
      "cc.en.300.vec.gz    100%[===================>]   1.23G  28.2MB/s    in 47s     \r\n",
      "\r\n",
      "2025-04-02 08:44:20 (26.8 MB/s) - ‘cc.en.300.vec.gz’ saved [1325960915/1325960915]\r\n",
      "\r\n"
     ]
    }
   ],
   "source": [
    "!wget https://dl.fbaipublicfiles.com/fasttext/vectors-crawl/cc.en.300.vec.gz\n",
    "!gunzip cc.en.300.vec.gz"
   ]
  },
  {
   "cell_type": "code",
   "execution_count": 10,
   "id": "6547f327",
   "metadata": {
    "execution": {
     "iopub.execute_input": "2025-04-02T08:44:59.901956Z",
     "iopub.status.busy": "2025-04-02T08:44:59.901540Z",
     "iopub.status.idle": "2025-04-02T08:52:17.533375Z",
     "shell.execute_reply": "2025-04-02T08:52:17.529940Z"
    },
    "papermill": {
     "duration": 437.655121,
     "end_time": "2025-04-02T08:52:17.538661",
     "exception": false,
     "start_time": "2025-04-02T08:44:59.883540",
     "status": "completed"
    },
    "tags": []
   },
   "outputs": [],
   "source": [
    "import gensim\n",
    "from gensim.models import KeyedVectors\n",
    "\n",
    "\n",
    "word2vec_path = \"cc.en.300.vec\"  \n",
    "word2vec_model = KeyedVectors.load_word2vec_format(word2vec_path, binary=False)\n"
   ]
  },
  {
   "cell_type": "code",
   "execution_count": 11,
   "id": "fb390f30",
   "metadata": {
    "execution": {
     "iopub.execute_input": "2025-04-02T08:52:17.582739Z",
     "iopub.status.busy": "2025-04-02T08:52:17.582149Z",
     "iopub.status.idle": "2025-04-02T08:52:18.029472Z",
     "shell.execute_reply": "2025-04-02T08:52:18.028156Z"
    },
    "papermill": {
     "duration": 0.468984,
     "end_time": "2025-04-02T08:52:18.031498",
     "exception": false,
     "start_time": "2025-04-02T08:52:17.562514",
     "status": "completed"
    },
    "tags": []
   },
   "outputs": [
    {
     "name": "stdout",
     "output_type": "stream",
     "text": [
      "word index size：22700\n"
     ]
    }
   ],
   "source": [
    "from tensorflow.keras.preprocessing.text import Tokenizer\n",
    "from tensorflow.keras.preprocessing.sequence import pad_sequences\n",
    "\n",
    "max_words = 10000  \n",
    "max_len = 100  \n",
    "\n",
    "tokenizer = Tokenizer(num_words=max_words)\n",
    "tokenizer.fit_on_texts(train_df['text'])  \n",
    "\n",
    "X_train_seq = tokenizer.texts_to_sequences(train_df['text'])\n",
    "X_train_pad = pad_sequences(X_train_seq, maxlen=max_len)\n",
    "\n",
    "word_index = tokenizer.word_index  \n",
    "print(f\"word index size：{len(word_index)}\")\n"
   ]
  },
  {
   "cell_type": "code",
   "execution_count": 12,
   "id": "c2477902",
   "metadata": {
    "execution": {
     "iopub.execute_input": "2025-04-02T08:52:18.066288Z",
     "iopub.status.busy": "2025-04-02T08:52:18.065868Z",
     "iopub.status.idle": "2025-04-02T08:52:18.146444Z",
     "shell.execute_reply": "2025-04-02T08:52:18.145048Z"
    },
    "papermill": {
     "duration": 0.100215,
     "end_time": "2025-04-02T08:52:18.148334",
     "exception": false,
     "start_time": "2025-04-02T08:52:18.048119",
     "status": "completed"
    },
    "tags": []
   },
   "outputs": [
    {
     "name": "stdout",
     "output_type": "stream",
     "text": [
      "build 10000 x 300 's word vector matrix\n"
     ]
    }
   ],
   "source": [
    "import numpy as np\n",
    "\n",
    "embedding_dim = 300  # Word2Vec 是 300 維\n",
    "embedding_matrix = np.zeros((max_words, embedding_dim))  # 初始化矩陣\n",
    "\n",
    "for word, i in word_index.items():\n",
    "    if i < max_words:\n",
    "        if word in word2vec_model:  # 如果詞在 Word2Vec 中有對應向量\n",
    "            embedding_matrix[i] = word2vec_model[word]  # 存入矩陣\n",
    "\n",
    "print(f\"build {embedding_matrix.shape[0]} x {embedding_matrix.shape[1]} 's word vector matrix\")\n"
   ]
  },
  {
   "cell_type": "code",
   "execution_count": 13,
   "id": "b992ce63",
   "metadata": {
    "execution": {
     "iopub.execute_input": "2025-04-02T08:52:18.182566Z",
     "iopub.status.busy": "2025-04-02T08:52:18.182165Z",
     "iopub.status.idle": "2025-04-02T08:52:18.530675Z",
     "shell.execute_reply": "2025-04-02T08:52:18.529693Z"
    },
    "papermill": {
     "duration": 0.367549,
     "end_time": "2025-04-02T08:52:18.532342",
     "exception": false,
     "start_time": "2025-04-02T08:52:18.164793",
     "status": "completed"
    },
    "tags": []
   },
   "outputs": [
    {
     "data": {
      "text/html": [
       "<pre style=\"white-space:pre;overflow-x:auto;line-height:normal;font-family:Menlo,'DejaVu Sans Mono',consolas,'Courier New',monospace\"><span style=\"font-weight: bold\">Model: \"sequential\"</span>\n",
       "</pre>\n"
      ],
      "text/plain": [
       "\u001b[1mModel: \"sequential\"\u001b[0m\n"
      ]
     },
     "metadata": {},
     "output_type": "display_data"
    },
    {
     "data": {
      "text/html": [
       "<pre style=\"white-space:pre;overflow-x:auto;line-height:normal;font-family:Menlo,'DejaVu Sans Mono',consolas,'Courier New',monospace\">┏━━━━━━━━━━━━━━━━━━━━━━━━━━━━━━━━━━━━━━┳━━━━━━━━━━━━━━━━━━━━━━━━━━━━━┳━━━━━━━━━━━━━━━━━┓\n",
       "┃<span style=\"font-weight: bold\"> Layer (type)                         </span>┃<span style=\"font-weight: bold\"> Output Shape                </span>┃<span style=\"font-weight: bold\">         Param # </span>┃\n",
       "┡━━━━━━━━━━━━━━━━━━━━━━━━━━━━━━━━━━━━━━╇━━━━━━━━━━━━━━━━━━━━━━━━━━━━━╇━━━━━━━━━━━━━━━━━┩\n",
       "│ embedding (<span style=\"color: #0087ff; text-decoration-color: #0087ff\">Embedding</span>)                │ ?                           │       <span style=\"color: #00af00; text-decoration-color: #00af00\">3,000,000</span> │\n",
       "├──────────────────────────────────────┼─────────────────────────────┼─────────────────┤\n",
       "│ bidirectional (<span style=\"color: #0087ff; text-decoration-color: #0087ff\">Bidirectional</span>)        │ ?                           │     <span style=\"color: #00af00; text-decoration-color: #00af00\">0</span> (unbuilt) │\n",
       "├──────────────────────────────────────┼─────────────────────────────┼─────────────────┤\n",
       "│ dense (<span style=\"color: #0087ff; text-decoration-color: #0087ff\">Dense</span>)                        │ ?                           │     <span style=\"color: #00af00; text-decoration-color: #00af00\">0</span> (unbuilt) │\n",
       "├──────────────────────────────────────┼─────────────────────────────┼─────────────────┤\n",
       "│ dropout (<span style=\"color: #0087ff; text-decoration-color: #0087ff\">Dropout</span>)                    │ ?                           │     <span style=\"color: #00af00; text-decoration-color: #00af00\">0</span> (unbuilt) │\n",
       "├──────────────────────────────────────┼─────────────────────────────┼─────────────────┤\n",
       "│ dense_1 (<span style=\"color: #0087ff; text-decoration-color: #0087ff\">Dense</span>)                      │ ?                           │     <span style=\"color: #00af00; text-decoration-color: #00af00\">0</span> (unbuilt) │\n",
       "└──────────────────────────────────────┴─────────────────────────────┴─────────────────┘\n",
       "</pre>\n"
      ],
      "text/plain": [
       "┏━━━━━━━━━━━━━━━━━━━━━━━━━━━━━━━━━━━━━━┳━━━━━━━━━━━━━━━━━━━━━━━━━━━━━┳━━━━━━━━━━━━━━━━━┓\n",
       "┃\u001b[1m \u001b[0m\u001b[1mLayer (type)                        \u001b[0m\u001b[1m \u001b[0m┃\u001b[1m \u001b[0m\u001b[1mOutput Shape               \u001b[0m\u001b[1m \u001b[0m┃\u001b[1m \u001b[0m\u001b[1m        Param #\u001b[0m\u001b[1m \u001b[0m┃\n",
       "┡━━━━━━━━━━━━━━━━━━━━━━━━━━━━━━━━━━━━━━╇━━━━━━━━━━━━━━━━━━━━━━━━━━━━━╇━━━━━━━━━━━━━━━━━┩\n",
       "│ embedding (\u001b[38;5;33mEmbedding\u001b[0m)                │ ?                           │       \u001b[38;5;34m3,000,000\u001b[0m │\n",
       "├──────────────────────────────────────┼─────────────────────────────┼─────────────────┤\n",
       "│ bidirectional (\u001b[38;5;33mBidirectional\u001b[0m)        │ ?                           │     \u001b[38;5;34m0\u001b[0m (unbuilt) │\n",
       "├──────────────────────────────────────┼─────────────────────────────┼─────────────────┤\n",
       "│ dense (\u001b[38;5;33mDense\u001b[0m)                        │ ?                           │     \u001b[38;5;34m0\u001b[0m (unbuilt) │\n",
       "├──────────────────────────────────────┼─────────────────────────────┼─────────────────┤\n",
       "│ dropout (\u001b[38;5;33mDropout\u001b[0m)                    │ ?                           │     \u001b[38;5;34m0\u001b[0m (unbuilt) │\n",
       "├──────────────────────────────────────┼─────────────────────────────┼─────────────────┤\n",
       "│ dense_1 (\u001b[38;5;33mDense\u001b[0m)                      │ ?                           │     \u001b[38;5;34m0\u001b[0m (unbuilt) │\n",
       "└──────────────────────────────────────┴─────────────────────────────┴─────────────────┘\n"
      ]
     },
     "metadata": {},
     "output_type": "display_data"
    },
    {
     "data": {
      "text/html": [
       "<pre style=\"white-space:pre;overflow-x:auto;line-height:normal;font-family:Menlo,'DejaVu Sans Mono',consolas,'Courier New',monospace\"><span style=\"font-weight: bold\"> Total params: </span><span style=\"color: #00af00; text-decoration-color: #00af00\">3,000,000</span> (11.44 MB)\n",
       "</pre>\n"
      ],
      "text/plain": [
       "\u001b[1m Total params: \u001b[0m\u001b[38;5;34m3,000,000\u001b[0m (11.44 MB)\n"
      ]
     },
     "metadata": {},
     "output_type": "display_data"
    },
    {
     "data": {
      "text/html": [
       "<pre style=\"white-space:pre;overflow-x:auto;line-height:normal;font-family:Menlo,'DejaVu Sans Mono',consolas,'Courier New',monospace\"><span style=\"font-weight: bold\"> Trainable params: </span><span style=\"color: #00af00; text-decoration-color: #00af00\">0</span> (0.00 B)\n",
       "</pre>\n"
      ],
      "text/plain": [
       "\u001b[1m Trainable params: \u001b[0m\u001b[38;5;34m0\u001b[0m (0.00 B)\n"
      ]
     },
     "metadata": {},
     "output_type": "display_data"
    },
    {
     "data": {
      "text/html": [
       "<pre style=\"white-space:pre;overflow-x:auto;line-height:normal;font-family:Menlo,'DejaVu Sans Mono',consolas,'Courier New',monospace\"><span style=\"font-weight: bold\"> Non-trainable params: </span><span style=\"color: #00af00; text-decoration-color: #00af00\">3,000,000</span> (11.44 MB)\n",
       "</pre>\n"
      ],
      "text/plain": [
       "\u001b[1m Non-trainable params: \u001b[0m\u001b[38;5;34m3,000,000\u001b[0m (11.44 MB)\n"
      ]
     },
     "metadata": {},
     "output_type": "display_data"
    }
   ],
   "source": [
    "from keras.layers import Input, LSTM, Embedding, Dense, Dropout, Bidirectional\n",
    "from keras.optimizers import Adam\n",
    "from keras.metrics import AUC  \n",
    "\n",
    "model = Sequential([\n",
    "    Embedding(input_dim=max_words, output_dim=300,  # 改成 300\n",
    "              weights=[embedding_matrix], trainable=False),  \n",
    "    Bidirectional(LSTM(64, dropout=0.2, recurrent_dropout=0.2)),  \n",
    "    Dense(128, activation='relu'),\n",
    "    Dropout(0.5),\n",
    "    Dense(1, activation='sigmoid')  \n",
    "])\n",
    "\n",
    "model.compile(optimizer=Adam(learning_rate=0.001),  \n",
    "              loss='binary_crossentropy',\n",
    "              metrics=['accuracy', AUC(name='auc')])\n",
    "\n",
    "model.summary()\n"
   ]
  },
  {
   "cell_type": "code",
   "execution_count": 14,
   "id": "2beb214f",
   "metadata": {
    "execution": {
     "iopub.execute_input": "2025-04-02T08:52:18.568683Z",
     "iopub.status.busy": "2025-04-02T08:52:18.568303Z",
     "iopub.status.idle": "2025-04-02T08:52:18.573338Z",
     "shell.execute_reply": "2025-04-02T08:52:18.572435Z"
    },
    "papermill": {
     "duration": 0.024956,
     "end_time": "2025-04-02T08:52:18.574941",
     "exception": false,
     "start_time": "2025-04-02T08:52:18.549985",
     "status": "completed"
    },
    "tags": []
   },
   "outputs": [],
   "source": [
    "y = train_df['target'].values  "
   ]
  },
  {
   "cell_type": "code",
   "execution_count": 15,
   "id": "9cf6b6c6",
   "metadata": {
    "execution": {
     "iopub.execute_input": "2025-04-02T08:52:18.611419Z",
     "iopub.status.busy": "2025-04-02T08:52:18.610983Z",
     "iopub.status.idle": "2025-04-02T08:57:34.513359Z",
     "shell.execute_reply": "2025-04-02T08:57:34.511821Z"
    },
    "papermill": {
     "duration": 315.922802,
     "end_time": "2025-04-02T08:57:34.515564",
     "exception": false,
     "start_time": "2025-04-02T08:52:18.592762",
     "status": "completed"
    },
    "tags": []
   },
   "outputs": [
    {
     "name": "stdout",
     "output_type": "stream",
     "text": [
      "Epoch 1/50\n",
      "\u001b[1m191/191\u001b[0m \u001b[32m━━━━━━━━━━━━━━━━━━━━\u001b[0m\u001b[37m\u001b[0m \u001b[1m25s\u001b[0m 104ms/step - accuracy: 0.6444 - auc: 0.6786 - loss: 0.6245 - val_accuracy: 0.7610 - val_auc: 0.8208 - val_loss: 0.5350\n",
      "Epoch 2/50\n",
      "\u001b[1m191/191\u001b[0m \u001b[32m━━━━━━━━━━━━━━━━━━━━\u001b[0m\u001b[37m\u001b[0m \u001b[1m19s\u001b[0m 98ms/step - accuracy: 0.7795 - auc: 0.8328 - loss: 0.4884 - val_accuracy: 0.7945 - val_auc: 0.8618 - val_loss: 0.4538\n",
      "Epoch 3/50\n",
      "\u001b[1m191/191\u001b[0m \u001b[32m━━━━━━━━━━━━━━━━━━━━\u001b[0m\u001b[37m\u001b[0m \u001b[1m19s\u001b[0m 101ms/step - accuracy: 0.8037 - auc: 0.8569 - loss: 0.4506 - val_accuracy: 0.7971 - val_auc: 0.8541 - val_loss: 0.4566\n",
      "Epoch 4/50\n",
      "\u001b[1m191/191\u001b[0m \u001b[32m━━━━━━━━━━━━━━━━━━━━\u001b[0m\u001b[37m\u001b[0m \u001b[1m21s\u001b[0m 110ms/step - accuracy: 0.8022 - auc: 0.8466 - loss: 0.4644 - val_accuracy: 0.8056 - val_auc: 0.8700 - val_loss: 0.4380\n",
      "Epoch 5/50\n",
      "\u001b[1m191/191\u001b[0m \u001b[32m━━━━━━━━━━━━━━━━━━━━\u001b[0m\u001b[37m\u001b[0m \u001b[1m19s\u001b[0m 98ms/step - accuracy: 0.8056 - auc: 0.8645 - loss: 0.4412 - val_accuracy: 0.7912 - val_auc: 0.8712 - val_loss: 0.4782\n",
      "Epoch 6/50\n",
      "\u001b[1m191/191\u001b[0m \u001b[32m━━━━━━━━━━━━━━━━━━━━\u001b[0m\u001b[37m\u001b[0m \u001b[1m19s\u001b[0m 102ms/step - accuracy: 0.8151 - auc: 0.8724 - loss: 0.4306 - val_accuracy: 0.8175 - val_auc: 0.8739 - val_loss: 0.4292\n",
      "Epoch 7/50\n",
      "\u001b[1m191/191\u001b[0m \u001b[32m━━━━━━━━━━━━━━━━━━━━\u001b[0m\u001b[37m\u001b[0m \u001b[1m19s\u001b[0m 97ms/step - accuracy: 0.8158 - auc: 0.8755 - loss: 0.4188 - val_accuracy: 0.8017 - val_auc: 0.8718 - val_loss: 0.4364\n",
      "Epoch 8/50\n",
      "\u001b[1m191/191\u001b[0m \u001b[32m━━━━━━━━━━━━━━━━━━━━\u001b[0m\u001b[37m\u001b[0m \u001b[1m19s\u001b[0m 101ms/step - accuracy: 0.8269 - auc: 0.8865 - loss: 0.4091 - val_accuracy: 0.8056 - val_auc: 0.8718 - val_loss: 0.4453\n",
      "Epoch 9/50\n",
      "\u001b[1m191/191\u001b[0m \u001b[32m━━━━━━━━━━━━━━━━━━━━\u001b[0m\u001b[37m\u001b[0m \u001b[1m19s\u001b[0m 99ms/step - accuracy: 0.8199 - auc: 0.8810 - loss: 0.4127 - val_accuracy: 0.8083 - val_auc: 0.8707 - val_loss: 0.4451\n",
      "Epoch 10/50\n",
      "\u001b[1m191/191\u001b[0m \u001b[32m━━━━━━━━━━━━━━━━━━━━\u001b[0m\u001b[37m\u001b[0m \u001b[1m19s\u001b[0m 101ms/step - accuracy: 0.8264 - auc: 0.8828 - loss: 0.4113 - val_accuracy: 0.8142 - val_auc: 0.8712 - val_loss: 0.4382\n",
      "Epoch 11/50\n",
      "\u001b[1m191/191\u001b[0m \u001b[32m━━━━━━━━━━━━━━━━━━━━\u001b[0m\u001b[37m\u001b[0m \u001b[1m20s\u001b[0m 103ms/step - accuracy: 0.8297 - auc: 0.8941 - loss: 0.3927 - val_accuracy: 0.8162 - val_auc: 0.8707 - val_loss: 0.4379\n",
      "Epoch 12/50\n",
      "\u001b[1m191/191\u001b[0m \u001b[32m━━━━━━━━━━━━━━━━━━━━\u001b[0m\u001b[37m\u001b[0m \u001b[1m19s\u001b[0m 100ms/step - accuracy: 0.8425 - auc: 0.9048 - loss: 0.3717 - val_accuracy: 0.8004 - val_auc: 0.8669 - val_loss: 0.4411\n",
      "Epoch 13/50\n",
      "\u001b[1m191/191\u001b[0m \u001b[32m━━━━━━━━━━━━━━━━━━━━\u001b[0m\u001b[37m\u001b[0m \u001b[1m19s\u001b[0m 102ms/step - accuracy: 0.8430 - auc: 0.9072 - loss: 0.3664 - val_accuracy: 0.8089 - val_auc: 0.8715 - val_loss: 0.4439\n",
      "Epoch 14/50\n",
      "\u001b[1m191/191\u001b[0m \u001b[32m━━━━━━━━━━━━━━━━━━━━\u001b[0m\u001b[37m\u001b[0m \u001b[1m20s\u001b[0m 99ms/step - accuracy: 0.8430 - auc: 0.9110 - loss: 0.3644 - val_accuracy: 0.8102 - val_auc: 0.8650 - val_loss: 0.4508\n",
      "Epoch 15/50\n",
      "\u001b[1m191/191\u001b[0m \u001b[32m━━━━━━━━━━━━━━━━━━━━\u001b[0m\u001b[37m\u001b[0m \u001b[1m19s\u001b[0m 102ms/step - accuracy: 0.8484 - auc: 0.9153 - loss: 0.3539 - val_accuracy: 0.8037 - val_auc: 0.8688 - val_loss: 0.4658\n",
      "Epoch 16/50\n",
      "\u001b[1m191/191\u001b[0m \u001b[32m━━━━━━━━━━━━━━━━━━━━\u001b[0m\u001b[37m\u001b[0m \u001b[1m20s\u001b[0m 103ms/step - accuracy: 0.8482 - auc: 0.9165 - loss: 0.3480 - val_accuracy: 0.7965 - val_auc: 0.8677 - val_loss: 0.4771\n"
     ]
    }
   ],
   "source": [
    "from keras.callbacks import EarlyStopping\n",
    "early_stopping = EarlyStopping(monitor=\"val_loss\", patience=10, restore_best_weights=True)\n",
    "\n",
    "\n",
    "history = model.fit(\n",
    "    X_train_pad,\n",
    "    y,\n",
    "    epochs=50,    \n",
    "    batch_size=32, \n",
    "    validation_split=0.2,  \n",
    "    callbacks=[early_stopping]\n",
    ")"
   ]
  },
  {
   "cell_type": "code",
   "execution_count": 16,
   "id": "97175a8d",
   "metadata": {
    "execution": {
     "iopub.execute_input": "2025-04-02T08:57:34.914141Z",
     "iopub.status.busy": "2025-04-02T08:57:34.913754Z",
     "iopub.status.idle": "2025-04-02T08:57:34.920412Z",
     "shell.execute_reply": "2025-04-02T08:57:34.919149Z"
    },
    "papermill": {
     "duration": 0.202079,
     "end_time": "2025-04-02T08:57:34.922366",
     "exception": false,
     "start_time": "2025-04-02T08:57:34.720287",
     "status": "completed"
    },
    "tags": []
   },
   "outputs": [],
   "source": [
    "test_target = test_df['id']\n",
    "test_text = test_df['text']"
   ]
  },
  {
   "cell_type": "code",
   "execution_count": 17,
   "id": "0ad97f66",
   "metadata": {
    "execution": {
     "iopub.execute_input": "2025-04-02T08:57:35.304074Z",
     "iopub.status.busy": "2025-04-02T08:57:35.303667Z",
     "iopub.status.idle": "2025-04-02T08:57:39.894652Z",
     "shell.execute_reply": "2025-04-02T08:57:39.893089Z"
    },
    "papermill": {
     "duration": 4.783526,
     "end_time": "2025-04-02T08:57:39.896967",
     "exception": false,
     "start_time": "2025-04-02T08:57:35.113441",
     "status": "completed"
    },
    "tags": []
   },
   "outputs": [
    {
     "name": "stdout",
     "output_type": "stream",
     "text": [
      "\u001b[1m102/102\u001b[0m \u001b[32m━━━━━━━━━━━━━━━━━━━━\u001b[0m\u001b[37m\u001b[0m \u001b[1m4s\u001b[0m 38ms/step\n",
      "✅ Submission file saved!\n"
     ]
    }
   ],
   "source": [
    "test_df = pd.read_csv(\"/kaggle/input/nlp-getting-started/test.csv\")\n",
    "\n",
    "test_text_seq = tokenizer.texts_to_sequences(test_df['text'])\n",
    "test_text_pad = pad_sequences(test_text_seq, maxlen=max_len)\n",
    "\n",
    "results = model.predict(test_text_pad)\n",
    "results = results.reshape(-1)  # 確保為一維\n",
    "results = (results > 0.5).astype(int)  # 轉換為 0 或 1\n",
    "\n",
    "assert len(test_df['id']) == len(results), \"Error: test_ids and results length mismatch!\"\n",
    "\n",
    "submission = pd.DataFrame({\n",
    "    'id': test_df['id'],\n",
    "    'target': results\n",
    "})\n",
    "\n",
    "\n",
    "# 輸出 CSV\n",
    "submission.to_csv(\"submission.csv\", index=False)\n",
    "print(\"✅ Submission file saved!\")"
   ]
  },
  {
   "cell_type": "code",
   "execution_count": 18,
   "id": "50a99d07",
   "metadata": {
    "execution": {
     "iopub.execute_input": "2025-04-02T08:57:40.355561Z",
     "iopub.status.busy": "2025-04-02T08:57:40.355145Z",
     "iopub.status.idle": "2025-04-02T08:57:40.362363Z",
     "shell.execute_reply": "2025-04-02T08:57:40.361108Z"
    },
    "papermill": {
     "duration": 0.205074,
     "end_time": "2025-04-02T08:57:40.364464",
     "exception": false,
     "start_time": "2025-04-02T08:57:40.159390",
     "status": "completed"
    },
    "tags": []
   },
   "outputs": [],
   "source": [
    "def graph_train_hist(history):\n",
    "    # Plot loss curves\n",
    "    plt.figure(figsize=(12, 5))\n",
    "\n",
    "    # Plot loss\n",
    "    plt.subplot(1, 2, 1)\n",
    "    plt.plot(history.history['loss'], label=\"Train Loss\")\n",
    "    plt.plot(history.history['val_loss'], label=\"Validation Loss\")\n",
    "    plt.title(\"Loss Curve\")\n",
    "    plt.xlabel(\"Epochs\")\n",
    "    plt.ylabel(\"Loss\")\n",
    "    plt.legend()\n",
    "\n",
    "    # Plot accuracy\n",
    "    plt.subplot(1, 2, 2)\n",
    "    plt.plot(history.history['accuracy'], label=\"Train Accuracy\")\n",
    "    plt.plot(history.history['val_accuracy'], label=\"Validation Accuracy\")\n",
    "    plt.title(\"Accuracy Curve\")\n",
    "    plt.xlabel(\"Epochs\")\n",
    "    plt.ylabel(\"Accuracy\")\n",
    "    plt.legend()\n",
    "\n",
    "    plt.show()"
   ]
  },
  {
   "cell_type": "code",
   "execution_count": 19,
   "id": "c4154050",
   "metadata": {
    "execution": {
     "iopub.execute_input": "2025-04-02T08:57:40.762487Z",
     "iopub.status.busy": "2025-04-02T08:57:40.762073Z",
     "iopub.status.idle": "2025-04-02T08:57:41.241825Z",
     "shell.execute_reply": "2025-04-02T08:57:41.240595Z"
    },
    "papermill": {
     "duration": 0.683334,
     "end_time": "2025-04-02T08:57:41.244162",
     "exception": false,
     "start_time": "2025-04-02T08:57:40.560828",
     "status": "completed"
    },
    "tags": []
   },
   "outputs": [
    {
     "data": {
      "image/png": "[encoded data removed]",
      "text/plain": [
       "<Figure size 1200x500 with 2 Axes>"
      ]
     },
     "metadata": {},
     "output_type": "display_data"
    }
   ],
   "source": [
    "graph_train_hist(history)"
   ]
  },
  {
   "cell_type": "code",
   "execution_count": null,
   "id": "1162d1c8",
   "metadata": {
    "papermill": {
     "duration": 0.207195,
     "end_time": "2025-04-02T08:57:41.657582",
     "exception": false,
     "start_time": "2025-04-02T08:57:41.450387",
     "status": "completed"
    },
    "tags": []
   },
   "outputs": [],
   "source": []
  }
 ],
 "metadata": {
  "kaggle": {
   "accelerator": "none",
   "dataSources": [
    {
     "databundleVersionId": 869809,
     "sourceId": 17777,
     "sourceType": "competition"
    }
   ],
   "dockerImageVersionId": 30918,
   "isGpuEnabled": false,
   "isInternetEnabled": true,
   "language": "python",
   "sourceType": "notebook"
  },
  "kernelspec": {
   "display_name": "Python 3",
   "language": "python",
   "name": "python3"
  },
  "language_info": {
   "codemirror_mode": {
    "name": "ipython",
    "version": 3
   },
   "file_extension": ".py",
   "mimetype": "text/x-python",
   "name": "python",
   "nbconvert_exporter": "python",
   "pygments_lexer": "ipython3",
   "version": "3.10.12"
  },
  "papermill": {
   "default_parameters": {},
   "duration": 887.167472,
   "end_time": "2025-04-02T08:57:44.580565",
   "environment_variables": {},
   "exception": null,
   "input_path": "__notebook__.ipynb",
   "output_path": "__notebook__.ipynb",
   "parameters": {},
   "start_time": "2025-04-02T08:42:57.413093",
   "version": "2.6.0"
  }
 },
 "nbformat": 4,
 "nbformat_minor": 5
}
